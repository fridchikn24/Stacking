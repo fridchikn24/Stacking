{
  "nbformat": 4,
  "nbformat_minor": 0,
  "metadata": {
    "colab": {
      "name": "Sameeullah_File1_HW7.ipynb",
      "provenance": [],
      "collapsed_sections": [],
      "toc_visible": true
    },
    "kernelspec": {
      "name": "python3",
      "display_name": "Python 3"
    },
    "language_info": {
      "name": "python"
    }
  },
  "cells": [
    {
      "cell_type": "code",
      "metadata": {
        "id": "zqjvtInmhRMK"
      },
      "source": [
        "from math import sqrt\n",
        "import pandas as pd\n",
        "import numpy as np\n",
        "import matplotlib.pyplot as plt\n",
        "import seaborn as sns\n",
        "import scipy.stats as stats\n",
        "\n",
        "pd.pandas.set_option('display.max_columns', None)\n",
        "%matplotlib inline"
      ],
      "execution_count": null,
      "outputs": []
    },
    {
      "cell_type": "code",
      "metadata": {
        "colab": {
          "base_uri": "https://localhost:8080/"
        },
        "id": "-oQmI9FjQDVf",
        "outputId": "175f3875-31b7-43b8-e528-681be01e7a0a"
      },
      "source": [
        "from google.colab import drive\n",
        "drive.mount('/content/drive')"
      ],
      "execution_count": null,
      "outputs": [
        {
          "output_type": "stream",
          "name": "stdout",
          "text": [
            "Drive already mounted at /content/drive; to attempt to forcibly remount, call drive.mount(\"/content/drive\", force_remount=True).\n"
          ]
        }
      ]
    },
    {
      "cell_type": "code",
      "metadata": {
        "id": "xsEOjPb1hRML"
      },
      "source": [
        "#test dataset\n",
        "\n",
        "df_test=pd.read_csv('/content/drive/MyDrive/test.csv')\n",
        "test = df_test.copy()"
      ],
      "execution_count": null,
      "outputs": []
    },
    {
      "cell_type": "code",
      "metadata": {
        "id": "uwU7iWghhRML"
      },
      "source": [
        "df=pd.read_csv('/content/drive/MyDrive/train.csv')\n",
        "\n",
        "data=df.copy()"
      ],
      "execution_count": null,
      "outputs": []
    },
    {
      "cell_type": "code",
      "metadata": {
        "id": "nluAywjphRMN",
        "outputId": "8b2d5bb6-137e-44eb-e5f0-6e674198d5d0",
        "colab": {
          "base_uri": "https://localhost:8080/"
        }
      },
      "source": [
        "categorical = [var for var in data.columns if data[var].dtypes=='O']\n",
        "print(categorical)\n",
        "print(len(categorical))"
      ],
      "execution_count": null,
      "outputs": [
        {
          "output_type": "stream",
          "name": "stdout",
          "text": [
            "[]\n",
            "0\n"
          ]
        }
      ]
    },
    {
      "cell_type": "code",
      "metadata": {
        "id": "1u9MUHARhRMO",
        "outputId": "cf53d232-ef57-45be-c707-69dbf5b690ef",
        "colab": {
          "base_uri": "https://localhost:8080/"
        }
      },
      "source": [
        "numerical = [var for var in data.columns if data[var].dtypes!='O']\n",
        "print(numerical)\n",
        "print(len(numerical))"
      ],
      "execution_count": null,
      "outputs": [
        {
          "output_type": "stream",
          "name": "stdout",
          "text": [
            "['Id', 'V1', 'V2', 'V3', 'V4', 'V5', 'V6', 'V7', 'V8', 'V9', 'V10', 'V11', 'V12', 'V13', 'V14', 'V15', 'V16', 'V17', 'V18', 'V19', 'V20', 'V21', 'V22', 'V23', 'V24', 'V25', 'V26', 'V27', 'V28', 'V29', 'Target']\n",
            "31\n"
          ]
        }
      ]
    },
    {
      "cell_type": "code",
      "metadata": {
        "id": "RLuboKWehRMO",
        "outputId": "506c6506-98ec-4d8a-ba9e-03bbd5362c20",
        "colab": {
          "base_uri": "https://localhost:8080/"
        }
      },
      "source": [
        "discrete = [var for var in numerical if len(data[var].unique()) < 20]\n",
        "print(discrete)\n",
        "print(f'There are {len(discrete)} discrete variables')"
      ],
      "execution_count": null,
      "outputs": [
        {
          "output_type": "stream",
          "name": "stdout",
          "text": [
            "['Target']\n",
            "There are 1 discrete variables\n"
          ]
        }
      ]
    },
    {
      "cell_type": "code",
      "metadata": {
        "id": "rGQ888GHhRMR",
        "outputId": "0e143454-b751-413e-8b25-55301de4bd32",
        "colab": {
          "base_uri": "https://localhost:8080/"
        }
      },
      "source": [
        "missing_data_columns= list(data.columns[data.isnull().mean()>0.0])\n",
        "print(missing_data_columns)\n",
        "len(missing_data_columns)"
      ],
      "execution_count": null,
      "outputs": [
        {
          "output_type": "stream",
          "name": "stdout",
          "text": [
            "['V1', 'V20']\n"
          ]
        },
        {
          "output_type": "execute_result",
          "data": {
            "text/plain": [
              "2"
            ]
          },
          "metadata": {},
          "execution_count": 8
        }
      ]
    },
    {
      "cell_type": "code",
      "metadata": {
        "id": "kGjHN5YihRMR",
        "outputId": "c58ccb18-6000-481c-d47e-62f02b695b7e",
        "colab": {
          "base_uri": "https://localhost:8080/"
        }
      },
      "source": [
        "#divide dataset into train, test\n",
        "\n",
        "from sklearn.model_selection import train_test_split\n",
        "X_train, X_test, y_train, y_test = train_test_split(data.drop(['Target','Id'], axis=1),\n",
        "                                                    data['Target'],\n",
        "                                                    test_size=0.2,\n",
        "                                                    random_state=0)\n",
        "\n",
        "X_train.shape, X_test.shape\n",
        "X_train.head()\n",
        "y_train.head()"
      ],
      "execution_count": null,
      "outputs": [
        {
          "output_type": "execute_result",
          "data": {
            "text/plain": [
              "12739    0\n",
              "3665     0\n",
              "24445    0\n",
              "19162    0\n",
              "17492    0\n",
              "Name: Target, dtype: int64"
            ]
          },
          "metadata": {},
          "execution_count": 9
        }
      ]
    },
    {
      "cell_type": "code",
      "metadata": {
        "id": "N0XcuEMihRMS",
        "outputId": "f2d1bd5b-3f92-42b4-bf57-69120d96ddc1",
        "colab": {
          "base_uri": "https://localhost:8080/"
        }
      },
      "source": [
        "df_test=df_test.drop(['Id'], axis=1)\n",
        "df_test.shape"
      ],
      "execution_count": null,
      "outputs": [
        {
          "output_type": "execute_result",
          "data": {
            "text/plain": [
              "(24846, 29)"
            ]
          },
          "metadata": {},
          "execution_count": 10
        }
      ]
    },
    {
      "cell_type": "code",
      "source": [
        "!pip install feature-engine\n",
        "\n",
        "from sklearn.preprocessing import RobustScaler\n",
        "from feature_engine.imputation import MeanMedianImputer\n",
        "from imblearn.pipeline import Pipeline\n",
        "from feature_engine.transformation import YeoJohnsonTransformer\n"
      ],
      "metadata": {
        "colab": {
          "base_uri": "https://localhost:8080/",
          "height": 485
        },
        "id": "hGcb2CLiINcn",
        "outputId": "ccd4e61b-16dc-4c31-ebfb-c738ca2cacb3"
      },
      "execution_count": null,
      "outputs": [
        {
          "output_type": "stream",
          "name": "stdout",
          "text": [
            "Collecting feature-engine\n",
            "  Downloading feature_engine-1.1.2-py2.py3-none-any.whl (180 kB)\n",
            "\u001b[?25l\r\u001b[K     |█▉                              | 10 kB 16.3 MB/s eta 0:00:01\r\u001b[K     |███▋                            | 20 kB 21.6 MB/s eta 0:00:01\r\u001b[K     |█████▌                          | 30 kB 25.3 MB/s eta 0:00:01\r\u001b[K     |███████▎                        | 40 kB 28.4 MB/s eta 0:00:01\r\u001b[K     |█████████                       | 51 kB 9.9 MB/s eta 0:00:01\r\u001b[K     |███████████                     | 61 kB 11.4 MB/s eta 0:00:01\r\u001b[K     |████████████▊                   | 71 kB 9.2 MB/s eta 0:00:01\r\u001b[K     |██████████████▌                 | 81 kB 10.1 MB/s eta 0:00:01\r\u001b[K     |████████████████▍               | 92 kB 8.5 MB/s eta 0:00:01\r\u001b[K     |██████████████████▏             | 102 kB 8.7 MB/s eta 0:00:01\r\u001b[K     |████████████████████            | 112 kB 8.7 MB/s eta 0:00:01\r\u001b[K     |█████████████████████▉          | 122 kB 8.7 MB/s eta 0:00:01\r\u001b[K     |███████████████████████▋        | 133 kB 8.7 MB/s eta 0:00:01\r\u001b[K     |█████████████████████████▌      | 143 kB 8.7 MB/s eta 0:00:01\r\u001b[K     |███████████████████████████▎    | 153 kB 8.7 MB/s eta 0:00:01\r\u001b[K     |█████████████████████████████   | 163 kB 8.7 MB/s eta 0:00:01\r\u001b[K     |███████████████████████████████ | 174 kB 8.7 MB/s eta 0:00:01\r\u001b[K     |████████████████████████████████| 180 kB 8.7 MB/s \n",
            "\u001b[?25hRequirement already satisfied: scikit-learn>=0.22.2 in /usr/local/lib/python3.7/dist-packages (from feature-engine) (1.0.1)\n",
            "Collecting statsmodels>=0.11.1\n",
            "  Downloading statsmodels-0.13.1-cp37-cp37m-manylinux_2_17_x86_64.manylinux2014_x86_64.whl (9.8 MB)\n",
            "\u001b[K     |████████████████████████████████| 9.8 MB 45.0 MB/s \n",
            "\u001b[?25hRequirement already satisfied: numpy>=1.18.2 in /usr/local/lib/python3.7/dist-packages (from feature-engine) (1.19.5)\n",
            "Requirement already satisfied: scipy>=1.4.1 in /usr/local/lib/python3.7/dist-packages (from feature-engine) (1.4.1)\n",
            "Requirement already satisfied: pandas>=1.0.3 in /usr/local/lib/python3.7/dist-packages (from feature-engine) (1.1.5)\n",
            "Requirement already satisfied: python-dateutil>=2.7.3 in /usr/local/lib/python3.7/dist-packages (from pandas>=1.0.3->feature-engine) (2.8.2)\n",
            "Requirement already satisfied: pytz>=2017.2 in /usr/local/lib/python3.7/dist-packages (from pandas>=1.0.3->feature-engine) (2018.9)\n",
            "Requirement already satisfied: six>=1.5 in /usr/local/lib/python3.7/dist-packages (from python-dateutil>=2.7.3->pandas>=1.0.3->feature-engine) (1.15.0)\n",
            "Requirement already satisfied: threadpoolctl>=2.0.0 in /usr/local/lib/python3.7/dist-packages (from scikit-learn>=0.22.2->feature-engine) (3.0.0)\n",
            "Requirement already satisfied: joblib>=0.11 in /usr/local/lib/python3.7/dist-packages (from scikit-learn>=0.22.2->feature-engine) (1.1.0)\n",
            "Requirement already satisfied: patsy>=0.5.2 in /usr/local/lib/python3.7/dist-packages (from statsmodels>=0.11.1->feature-engine) (0.5.2)\n",
            "Installing collected packages: statsmodels, feature-engine\n",
            "  Attempting uninstall: statsmodels\n",
            "    Found existing installation: statsmodels 0.10.2\n",
            "    Uninstalling statsmodels-0.10.2:\n",
            "      Successfully uninstalled statsmodels-0.10.2\n",
            "Successfully installed feature-engine-1.1.2 statsmodels-0.13.1\n"
          ]
        },
        {
          "output_type": "display_data",
          "data": {
            "application/vnd.colab-display-data+json": {
              "pip_warning": {
                "packages": [
                  "statsmodels"
                ]
              }
            }
          },
          "metadata": {}
        }
      ]
    },
    {
      "cell_type": "code",
      "metadata": {
        "id": "cwh3G8BRhRMS",
        "colab": {
          "base_uri": "https://localhost:8080/"
        },
        "outputId": "b8553497-0949-44c6-b723-81e033541f6e"
      },
      "source": [
        "data_pre_process = Pipeline([\n",
        "    \n",
        "    # missing data imputation \n",
        "   ('mean_median_imputation', MeanMedianImputer(imputation_method='median',\n",
        "                                   variables=missing_data_columns)),\n",
        "   \n",
        "    # Transforming Numerical Variables\n",
        "   ('yjt', YeoJohnsonTransformer()),\n",
        "\n",
        "    # feature Scaling\n",
        "     ('scaler', RobustScaler())\n",
        "    \n",
        "])\n",
        "\n",
        "data_pre_process.fit(X_train,y_train)\n"
      ],
      "execution_count": null,
      "outputs": [
        {
          "output_type": "execute_result",
          "data": {
            "text/plain": [
              "Pipeline(steps=[('mean_median_imputation',\n",
              "                 MeanMedianImputer(variables=['V1', 'V20'])),\n",
              "                ('yjt', YeoJohnsonTransformer()), ('scaler', RobustScaler())])"
            ]
          },
          "metadata": {},
          "execution_count": 12
        }
      ]
    },
    {
      "cell_type": "code",
      "metadata": {
        "id": "oWeHZftmhRMS"
      },
      "source": [
        "X_train=pd.DataFrame(data_pre_process.transform(X_train),columns=X_train.columns)\n",
        "X_test=pd.DataFrame(data_pre_process.transform(X_test),columns=X_test.columns)"
      ],
      "execution_count": null,
      "outputs": []
    },
    {
      "cell_type": "code",
      "metadata": {
        "id": "QxsL-hH9hRMT"
      },
      "source": [
        "df_test=pd.DataFrame(data_pre_process.transform(df_test),columns=df_test.columns)"
      ],
      "execution_count": null,
      "outputs": []
    },
    {
      "cell_type": "code",
      "metadata": {
        "id": "Isqeqaz1hRMT",
        "outputId": "0c9f167b-649c-4f55-c6cc-3873dd43ec23",
        "colab": {
          "base_uri": "https://localhost:8080/"
        }
      },
      "source": [
        "#Making f2 scorer for Grid search CV\n",
        "from sklearn.metrics import fbeta_score, make_scorer\n",
        "ftwo_scorer = make_scorer(fbeta_score, beta=2)\n",
        "ftwo_scorer"
      ],
      "execution_count": null,
      "outputs": [
        {
          "output_type": "execute_result",
          "data": {
            "text/plain": [
              "make_scorer(fbeta_score, beta=2)"
            ]
          },
          "metadata": {},
          "execution_count": 15
        }
      ]
    },
    {
      "cell_type": "code",
      "metadata": {
        "id": "s0CnNXKxhRMT"
      },
      "source": [
        "from sklearn.model_selection import GridSearchCV\n",
        "from sklearn.linear_model import LogisticRegression\n",
        "from sklearn.neighbors import KNeighborsClassifier\n",
        "from sklearn.tree import DecisionTreeClassifier\n",
        "from sklearn.svm import LinearSVC\n",
        "from sklearn.svm import SVC\n",
        "from sklearn.ensemble import RandomForestClassifier\n",
        "from  sklearn.ensemble import ExtraTreesClassifier\n",
        "from  sklearn.ensemble import GradientBoostingClassifier\n",
        "from xgboost import XGBClassifier\n",
        "from sklearn.ensemble import StackingClassifier\n",
        "from sklearn.metrics import f1_score\n",
        "from numpy import mean\n",
        "from sklearn.datasets import make_classification\n",
        "from sklearn.model_selection import GridSearchCV\n",
        "from sklearn.model_selection import RandomizedSearchCV\n",
        "from sklearn.model_selection import RepeatedStratifiedKFold\n",
        "from sklearn.metrics import fbeta_score\n",
        "from imblearn.pipeline import Pipeline\n",
        "from imblearn.over_sampling import RandomOverSampler\n",
        "from imblearn.over_sampling import SMOTE\n",
        "from imblearn.over_sampling import SVMSMOTE\n",
        "from imblearn.over_sampling import ADASYN\n",
        "\n",
        "import pickle"
      ],
      "execution_count": null,
      "outputs": []
    },
    {
      "cell_type": "code",
      "metadata": {
        "id": "_gI5m_ZmhRMb",
        "outputId": "85f2c77a-88fc-4b76-ba22-96e2edac5b2d",
        "colab": {
          "base_uri": "https://localhost:8080/"
        }
      },
      "source": [
        "#Tried all possibilites for k neighbours like 10,50,100 to avoid overfitting but no luck\n",
        "\n",
        "pipe_xgb_svmsmote = Pipeline([('svmsmote', SVMSMOTE()), ('model', XGBClassifier(random_state=42,early_stopping_rounds=2,tree_method = 'hist',\n",
        "                                                                                objective= 'binary:logistic'))])\n",
        "param_grid = {\n",
        "    # try different feature engineering parameters\n",
        "    'svmsmote__k_neighbors': [2],\n",
        "    'model__n_estimators': [60],\n",
        "    'model__max_depth': [5],\n",
        "    'model__subsample': [0.9]\n",
        "}\n",
        "\n",
        "#apply grid search\n",
        "grid_svmsmote_xgb= GridSearchCV(pipe_xgb_svmsmote, param_grid, cv=5, n_jobs=-1, scoring=ftwo_scorer)\n",
        "grid_svmsmote_xgb.fit(X_train, y_train)\n",
        "grid_svmsmote_xgb.best_estimator_"
      ],
      "execution_count": null,
      "outputs": [
        {
          "output_type": "execute_result",
          "data": {
            "text/plain": [
              "Pipeline(steps=[('svmsmote', SVMSMOTE(k_neighbors=2)),\n",
              "                ('model',\n",
              "                 XGBClassifier(early_stopping_rounds=2, max_depth=5,\n",
              "                               n_estimators=60, random_state=42, subsample=0.9,\n",
              "                               tree_method='hist'))])"
            ]
          },
          "metadata": {},
          "execution_count": 17
        }
      ]
    },
    {
      "cell_type": "code",
      "metadata": {
        "id": "Fuqhhz4MhRMX",
        "outputId": "052e54f7-e3fd-4669-a020-f590efb6e480",
        "colab": {
          "base_uri": "https://localhost:8080/"
        }
      },
      "source": [
        "logreg = LogisticRegression()\n",
        "param_grid = {\n",
        "    \n",
        "    'class_weight': [{0:1,1:10}],\n",
        "    'C': [0.01], \n",
        "    'penalty': ['l2']\n",
        "}\n",
        "#apply grid search\n",
        "grid_logreg= GridSearchCV(logreg, param_grid, cv=5, n_jobs=-1, scoring=ftwo_scorer)\n",
        "grid_logreg.fit(X_train, y_train)"
      ],
      "execution_count": null,
      "outputs": [
        {
          "output_type": "execute_result",
          "data": {
            "text/plain": [
              "GridSearchCV(cv=5, estimator=LogisticRegression(), n_jobs=-1,\n",
              "             param_grid={'C': [0.01], 'class_weight': [{0: 1, 1: 10}],\n",
              "                         'penalty': ['l2']},\n",
              "             scoring=make_scorer(fbeta_score, beta=2))"
            ]
          },
          "metadata": {},
          "execution_count": 18
        }
      ]
    },
    {
      "cell_type": "code",
      "metadata": {
        "scrolled": true,
        "id": "UY-QGkbNhRMa",
        "outputId": "8a40ef0b-ee86-4c74-dfd5-8799cf6ce98c",
        "colab": {
          "base_uri": "https://localhost:8080/"
        }
      },
      "source": [
        "# GridSearch with oversampling\n",
        "pipe_knn_adasyn = Pipeline([('adasyn', SVMSMOTE()), ('model', KNeighborsClassifier())])\n",
        "param_grid = {\n",
        "    # try different feature engineering parameters\n",
        "    'adasyn__k_neighbors': [10],\n",
        "    #'model__p': [3,4,5,6], \n",
        "   'model__n_neighbors' : [10], \n",
        "   #'model__weights': ['uniform','distance']\n",
        "}\n",
        "\n",
        "#apply grid search\n",
        "grid_adasyn_knn= GridSearchCV(pipe_knn_adasyn, param_grid, cv=5, n_jobs=-1, scoring=ftwo_scorer)\n",
        "grid_adasyn_knn.fit(X_train, y_train)"
      ],
      "execution_count": null,
      "outputs": [
        {
          "output_type": "stream",
          "name": "stderr",
          "text": [
            "/usr/local/lib/python3.7/dist-packages/joblib/externals/loky/process_executor.py:705: UserWarning: A worker stopped while some jobs were given to the executor. This can be caused by a too short worker timeout or by a memory leak.\n",
            "  \"timeout or by a memory leak.\", UserWarning\n"
          ]
        },
        {
          "output_type": "execute_result",
          "data": {
            "text/plain": [
              "GridSearchCV(cv=5,\n",
              "             estimator=Pipeline(steps=[('adasyn', SVMSMOTE()),\n",
              "                                       ('model', KNeighborsClassifier())]),\n",
              "             n_jobs=-1,\n",
              "             param_grid={'adasyn__k_neighbors': [10],\n",
              "                         'model__n_neighbors': [10]},\n",
              "             scoring=make_scorer(fbeta_score, beta=2))"
            ]
          },
          "metadata": {},
          "execution_count": 19
        }
      ]
    },
    {
      "cell_type": "code",
      "metadata": {
        "scrolled": false,
        "id": "JkqBSoT5hRMY",
        "outputId": "5a2063cb-879f-4f92-aaf8-49b479bf89cb",
        "colab": {
          "base_uri": "https://localhost:8080/"
        }
      },
      "source": [
        "#class weight balanced, balanced_subsample\n",
        "etc2 = ExtraTreesClassifier(random_state=42)\n",
        "param_grid = {\n",
        "    \n",
        "    'class_weight': ['balanced'],\n",
        "    'n_estimators': [500],\n",
        "    'max_features': ['auto'],\n",
        "    'max_depth' : [10],\n",
        "    'criterion' :['gini']\n",
        "}\n",
        "\n",
        "#apply grid search\n",
        "grid_etc2= GridSearchCV(etc2, param_grid, cv=5, n_jobs=-1, scoring=ftwo_scorer)\n",
        "grid_etc2.fit(X_train, y_train)"
      ],
      "execution_count": null,
      "outputs": [
        {
          "output_type": "execute_result",
          "data": {
            "text/plain": [
              "GridSearchCV(cv=5, estimator=ExtraTreesClassifier(random_state=42), n_jobs=-1,\n",
              "             param_grid={'class_weight': ['balanced'], 'criterion': ['gini'],\n",
              "                         'max_depth': [10], 'max_features': ['auto'],\n",
              "                         'n_estimators': [500]},\n",
              "             scoring=make_scorer(fbeta_score, beta=2))"
            ]
          },
          "metadata": {},
          "execution_count": 20
        }
      ]
    },
    {
      "cell_type": "code",
      "metadata": {
        "id": "Sbp-tH6ihRMd",
        "outputId": "06c504ba-f0a0-4b40-bf26-6b97cd0fd888",
        "colab": {
          "base_uri": "https://localhost:8080/"
        }
      },
      "source": [
        "from sklearn.neural_network import MLPClassifier \n",
        "pipe_mlp_svmsmote = Pipeline([('svmsmote', SVMSMOTE()), ('model', MLPClassifier())])\n",
        "param_grid = {\n",
        "    # try different feature engineering parameters\n",
        "    'svmsmote__k_neighbors': [10],\n",
        "    'model__alpha': [0.9],\n",
        "    'model__solver': ['sgd']\n",
        "}\n",
        "\n",
        "#apply grid search\n",
        "grid_svmsmote_mlp= GridSearchCV(pipe_mlp_svmsmote, param_grid, cv=5, n_jobs=-1, scoring=ftwo_scorer)\n",
        "grid_svmsmote_mlp.fit(X_train, y_train)\n",
        "\n",
        "print(\"Best parameters: {}\".format(grid_svmsmote_mlp.best_params_))\n",
        "print(\"Best Mean cross-validation score: {:.5f}\".format(grid_svmsmote_mlp.best_score_))\n",
        "print(f'Train score is {grid_svmsmote_mlp.score(X_train,y_train)}')\n",
        "print(f'Test score is {grid_svmsmote_mlp.score(X_test,y_test)}')"
      ],
      "execution_count": null,
      "outputs": [
        {
          "output_type": "stream",
          "name": "stdout",
          "text": [
            "Best parameters: {'model__alpha': 0.9, 'model__solver': 'sgd', 'svmsmote__k_neighbors': 10}\n",
            "Best Mean cross-validation score: 0.75028\n",
            "Train score is 0.7792792792792793\n",
            "Test score is 0.7508532423208191\n"
          ]
        }
      ]
    },
    {
      "cell_type": "code",
      "source": [
        "stack1 =StackingClassifier(estimators = \n",
        "                            [('xgb_over', grid_svmsmote_xgb.best_estimator_),\n",
        "                            ('knn_over', grid_adasyn_knn.best_estimator_),\n",
        "                            ('cost_trees', grid_etc2.best_estimator_)\n",
        "                            ], final_estimator = XGBClassifier(random_state=42,early_stopping_rounds=2,tree_method = 'hist',objective= 'binary:logistic'))\n",
        "\n",
        "stack1_params = {\n",
        "    'final_estimator__n_estimators':[50],\n",
        "    'final_estimator__max_depth': [5],\n",
        "    'final_estimator__subsample':[.9],\n",
        "}\n",
        "\n",
        "stack1_grid = GridSearchCV(stack1,stack1_params, cv = 5, n_jobs=-1,return_train_score=True)\n",
        "stack1_grid.fit(X_train,y_train)\n"
      ],
      "metadata": {
        "colab": {
          "base_uri": "https://localhost:8080/"
        },
        "id": "FlcpwrGdSRal",
        "outputId": "eb0b1338-bcfb-4f6b-dbaa-c1c1941f4032"
      },
      "execution_count": null,
      "outputs": [
        {
          "output_type": "execute_result",
          "data": {
            "text/plain": [
              "GridSearchCV(cv=5,\n",
              "             estimator=StackingClassifier(estimators=[('xgb_over',\n",
              "                                                       Pipeline(steps=[('svmsmote',\n",
              "                                                                        SVMSMOTE(k_neighbors=2)),\n",
              "                                                                       ('model',\n",
              "                                                                        XGBClassifier(early_stopping_rounds=2,\n",
              "                                                                                      max_depth=5,\n",
              "                                                                                      n_estimators=60,\n",
              "                                                                                      random_state=42,\n",
              "                                                                                      subsample=0.9,\n",
              "                                                                                      tree_method='hist'))])),\n",
              "                                                      ('knn_over',\n",
              "                                                       Pipeline(steps=[('adasyn',\n",
              "                                                                        SVMSMOTE(k_neighbors=10)),\n",
              "                                                                       ('model',\n",
              "                                                                        KNeighborsClassifier(n_n...\n",
              "                                                      ('cost_trees',\n",
              "                                                       ExtraTreesClassifier(class_weight='balanced',\n",
              "                                                                            max_depth=10,\n",
              "                                                                            n_estimators=500,\n",
              "                                                                            random_state=42))],\n",
              "                                          final_estimator=XGBClassifier(early_stopping_rounds=2,\n",
              "                                                                        random_state=42,\n",
              "                                                                        tree_method='hist')),\n",
              "             n_jobs=-1,\n",
              "             param_grid={'final_estimator__max_depth': [5],\n",
              "                         'final_estimator__n_estimators': [50],\n",
              "                         'final_estimator__subsample': [0.9]},\n",
              "             return_train_score=True)"
            ]
          },
          "metadata": {},
          "execution_count": 22
        }
      ]
    },
    {
      "cell_type": "code",
      "source": [
        "print(f'Best Mean Cross Validation Score is {stack1_grid.best_score_}')\n",
        "print(f'Best Mean Cross Validation Score is {stack1_grid.best_params_}')\n",
        "print(f'Train score is {stack1_grid.score(X_train,y_train)}')\n",
        "print(f'Test score is {stack1_grid.score(X_test,y_test)}')\n"
      ],
      "metadata": {
        "colab": {
          "base_uri": "https://localhost:8080/"
        },
        "id": "pW50OVdyUcb8",
        "outputId": "c0dc23e7-e372-428e-e11d-8af7170bbd29"
      },
      "execution_count": null,
      "outputs": [
        {
          "output_type": "stream",
          "name": "stdout",
          "text": [
            "Best Mean Cross Validation Score is 0.9979372081545879\n",
            "Best Mean Cross Validation Score is {'final_estimator__max_depth': 5, 'final_estimator__n_estimators': 50, 'final_estimator__subsample': 0.9}\n",
            "Train score is 0.9988931374522036\n",
            "Test score is 0.996579476861167\n"
          ]
        }
      ]
    },
    {
      "cell_type": "code",
      "source": [
        "stack2 =StackingClassifier(estimators = \n",
        "                            [('xgb_over', grid_svmsmote_xgb.best_estimator_),\n",
        "                            ('logreg', grid_logreg.best_estimator_),\n",
        "                            ('mlp', grid_svmsmote_mlp.best_estimator_)\n",
        "                            ], final_estimator = XGBClassifier(random_state=42,tree_method = 'hist',early_stopping_rounds=2,objective= 'binary:logistic'))\n",
        "\n",
        "stack2_params = {\n",
        "    'final_estimator__n_estimators':[60],\n",
        "    'final_estimator__max_depth': [5],\n",
        "    'final_estimator__subsample':[1],\n",
        "}\n",
        "\n",
        "stack2_grid = GridSearchCV(stack2,stack2_params, cv = 5, n_jobs=-1,return_train_score=True)\n",
        "stack2_grid.fit(X_train,y_train)\n"
      ],
      "metadata": {
        "colab": {
          "base_uri": "https://localhost:8080/"
        },
        "id": "deQWYsKZf4PL",
        "outputId": "2ca90cfa-4375-47a1-a873-0d8e36650fa8"
      },
      "execution_count": null,
      "outputs": [
        {
          "output_type": "execute_result",
          "data": {
            "text/plain": [
              "GridSearchCV(cv=5,\n",
              "             estimator=StackingClassifier(estimators=[('xgb_over',\n",
              "                                                       Pipeline(steps=[('svmsmote',\n",
              "                                                                        SVMSMOTE(k_neighbors=2)),\n",
              "                                                                       ('model',\n",
              "                                                                        XGBClassifier(early_stopping_rounds=2,\n",
              "                                                                                      max_depth=5,\n",
              "                                                                                      n_estimators=60,\n",
              "                                                                                      random_state=42,\n",
              "                                                                                      subsample=0.9,\n",
              "                                                                                      tree_method='hist'))])),\n",
              "                                                      ('logreg',\n",
              "                                                       LogisticRegression(C=0.01,\n",
              "                                                                          class_weight={0: 1,\n",
              "                                                                                        1: 10})),\n",
              "                                                      ('mlp',\n",
              "                                                       Pipeline(steps=[('svmsmote',\n",
              "                                                                        SVMSMOTE(k_neighbors=10)),\n",
              "                                                                       ('model',\n",
              "                                                                        MLPClassifier(alpha=0.9,\n",
              "                                                                                      solver='sgd'))]))],\n",
              "                                          final_estimator=XGBClassifier(early_stopping_rounds=2,\n",
              "                                                                        random_state=42,\n",
              "                                                                        tree_method='hist')),\n",
              "             n_jobs=-1,\n",
              "             param_grid={'final_estimator__max_depth': [5],\n",
              "                         'final_estimator__n_estimators': [60],\n",
              "                         'final_estimator__subsample': [1]},\n",
              "             return_train_score=True)"
            ]
          },
          "metadata": {},
          "execution_count": 24
        }
      ]
    },
    {
      "cell_type": "code",
      "source": [
        "print(f'Best Mean Cross Validation Score is {stack2_grid.best_score_}')\n",
        "print(f'Best Mean Cross Validation Score is {stack2_grid.best_params_}')\n",
        "print(f'Train score is {stack2_grid.score(X_train,y_train)}')\n",
        "print(f'Test score is {stack2_grid.score(X_test,y_test)}')\n"
      ],
      "metadata": {
        "colab": {
          "base_uri": "https://localhost:8080/"
        },
        "outputId": "44c9badd-0f39-4352-8f2e-d187f6062fae",
        "id": "iwl7RENKgU_D"
      },
      "execution_count": null,
      "outputs": [
        {
          "output_type": "stream",
          "name": "stdout",
          "text": [
            "Best Mean Cross Validation Score is 0.9978868430710047\n",
            "Best Mean Cross Validation Score is {'final_estimator__max_depth': 5, 'final_estimator__n_estimators': 60, 'final_estimator__subsample': 1}\n",
            "Train score is 0.9986918897162407\n",
            "Test score is 0.9963782696177063\n"
          ]
        }
      ]
    },
    {
      "cell_type": "markdown",
      "source": [
        "The first stacking method has a slightly lower test score but it takes significantly less time to train, with a 13 minute deficit between the first and second stacking method. This is likely due to the application of a nueral network in the 2nd stacking model's base.\n"
      ],
      "metadata": {
        "id": "j4v-U4QRnRLD"
      }
    },
    {
      "cell_type": "code",
      "metadata": {
        "colab": {
          "base_uri": "https://localhost:8080/",
          "height": 385
        },
        "id": "s2PIHdBcXgMz",
        "outputId": "041e1cff-485d-42ba-e18e-2a27953c7caa"
      },
      "source": [
        "!wget -nc https://raw.githubusercontent.com/brpy/colab-pdf/master/colab_pdf.py\n",
        "from colab_pdf import colab_pdf\n",
        "colab_pdf('Sameeullah_File1_HW7.ipynb')"
      ],
      "execution_count": 27,
      "outputs": [
        {
          "output_type": "stream",
          "name": "stdout",
          "text": [
            "File ‘colab_pdf.py’ already there; not retrieving.\n",
            "\n",
            "\n",
            "WARNING: apt does not have a stable CLI interface. Use with caution in scripts.\n",
            "\n",
            "\n",
            "WARNING: apt does not have a stable CLI interface. Use with caution in scripts.\n",
            "\n",
            "Extracting templates from packages: 100%\n",
            "[NbConvertApp] Converting notebook /content/drive/MyDrive/Colab Notebooks/Sameeullah_File1_HW7.ipynb to pdf\n",
            "/usr/local/lib/python2.7/dist-packages/nbconvert/filters/datatypefilter.py:41: UserWarning: Your element with mimetype(s) [u'application/vnd.colab-display-data+json'] is not able to be represented.\n",
            "  mimetypes=output.keys())\n",
            "[NbConvertApp] Writing 61333 bytes to ./notebook.tex\n",
            "[NbConvertApp] Building PDF\n",
            "[NbConvertApp] Running xelatex 3 times: [u'xelatex', u'./notebook.tex', '-quiet']\n",
            "[NbConvertApp] Running bibtex 1 time: [u'bibtex', u'./notebook']\n",
            "[NbConvertApp] WARNING | bibtex had problems, most likely because there were no citations\n",
            "[NbConvertApp] PDF successfully created\n",
            "[NbConvertApp] Writing 50230 bytes to /content/drive/My Drive/Sameeullah_File1_HW7.pdf\n"
          ]
        },
        {
          "output_type": "display_data",
          "data": {
            "application/javascript": [
              "\n",
              "    async function download(id, filename, size) {\n",
              "      if (!google.colab.kernel.accessAllowed) {\n",
              "        return;\n",
              "      }\n",
              "      const div = document.createElement('div');\n",
              "      const label = document.createElement('label');\n",
              "      label.textContent = `Downloading \"${filename}\": `;\n",
              "      div.appendChild(label);\n",
              "      const progress = document.createElement('progress');\n",
              "      progress.max = size;\n",
              "      div.appendChild(progress);\n",
              "      document.body.appendChild(div);\n",
              "\n",
              "      const buffers = [];\n",
              "      let downloaded = 0;\n",
              "\n",
              "      const channel = await google.colab.kernel.comms.open(id);\n",
              "      // Send a message to notify the kernel that we're ready.\n",
              "      channel.send({})\n",
              "\n",
              "      for await (const message of channel.messages) {\n",
              "        // Send a message to notify the kernel that we're ready.\n",
              "        channel.send({})\n",
              "        if (message.buffers) {\n",
              "          for (const buffer of message.buffers) {\n",
              "            buffers.push(buffer);\n",
              "            downloaded += buffer.byteLength;\n",
              "            progress.value = downloaded;\n",
              "          }\n",
              "        }\n",
              "      }\n",
              "      const blob = new Blob(buffers, {type: 'application/binary'});\n",
              "      const a = document.createElement('a');\n",
              "      a.href = window.URL.createObjectURL(blob);\n",
              "      a.download = filename;\n",
              "      div.appendChild(a);\n",
              "      a.click();\n",
              "      div.remove();\n",
              "    }\n",
              "  "
            ],
            "text/plain": [
              "<IPython.core.display.Javascript object>"
            ]
          },
          "metadata": {}
        },
        {
          "output_type": "display_data",
          "data": {
            "application/javascript": [
              "download(\"download_62f99774-fc35-4e6e-b4e0-3560b0eab33e\", \"Sameeullah_File1_HW7.pdf\", 50230)"
            ],
            "text/plain": [
              "<IPython.core.display.Javascript object>"
            ]
          },
          "metadata": {}
        },
        {
          "output_type": "execute_result",
          "data": {
            "application/vnd.google.colaboratory.intrinsic+json": {
              "type": "string"
            },
            "text/plain": [
              "'File ready to be Downloaded and Saved to Drive'"
            ]
          },
          "metadata": {},
          "execution_count": 27
        }
      ]
    }
  ]
}